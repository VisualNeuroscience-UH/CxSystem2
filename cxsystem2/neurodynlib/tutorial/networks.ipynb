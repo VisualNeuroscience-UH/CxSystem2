{
 "cells": [
  {
   "cell_type": "code",
   "execution_count": 1,
   "metadata": {},
   "outputs": [],
   "source": [
    "import cxsystem2.neurodynlib as nd\n",
    "from brian2.units import *\n",
    "import brian2 as b2\n",
    "import matplotlib.pyplot as plt\n",
    "\n",
    "b2.codegen.target = 'numpy'"
   ]
  },
  {
   "cell_type": "markdown",
   "metadata": {},
   "source": [
    "# Making networks"
   ]
  },
  {
   "cell_type": "markdown",
   "metadata": {},
   "source": [
    "While neurodynlib is intended for exploring neuron models, you can use it to build network simulations as well. Some knowledge of Brian2 is useful here."
   ]
  },
  {
   "cell_type": "markdown",
   "metadata": {},
   "source": [
    "## Create the neuron models"
   ]
  },
  {
   "cell_type": "markdown",
   "metadata": {},
   "source": [
    "Let's first create the AdEx neuron models for our excitatory and inhibitory neurons using parameters from Naud et al. (2008) Biol Cybern (see tutorial 2 on export/import)."
   ]
  },
  {
   "cell_type": "code",
   "execution_count": 2,
   "metadata": {},
   "outputs": [
    {
     "data": {
      "text/plain": [
       "['cNA',\n",
       " 'cAD',\n",
       " 'RS',\n",
       " 'Fig_4a',\n",
       " 'Fig_4b',\n",
       " 'Fig_4c',\n",
       " 'Fig_4d',\n",
       " 'Fig_4e',\n",
       " 'Fig_4f',\n",
       " 'Fig_4g',\n",
       " 'Figs_4h']"
      ]
     },
     "execution_count": 2,
     "metadata": {},
     "output_type": "execute_result"
    }
   ],
   "source": [
    "naud2008_json = 'naud2008_table1.json'\n",
    "exc_neuron = nd.AdexNeuron()\n",
    "exc_neuron.list_neurons_in_json(naud2008_json)"
   ]
  },
  {
   "cell_type": "code",
   "execution_count": 3,
   "metadata": {},
   "outputs": [],
   "source": [
    "exc_neuron.read_json(naud2008_json, 'RS')"
   ]
  },
  {
   "cell_type": "code",
   "execution_count": 4,
   "metadata": {},
   "outputs": [],
   "source": [
    "inh_neuron = nd.AdexNeuron()\n",
    "inh_neuron.read_json(naud2008_json, 'cNA')"
   ]
  },
  {
   "cell_type": "code",
   "execution_count": 5,
   "metadata": {},
   "outputs": [],
   "source": [
    "exc_neuron.add_tonic_current(45*pA)\n",
    "inh_neuron.add_tonic_current(85*pA)"
   ]
  },
  {
   "cell_type": "markdown",
   "metadata": {},
   "source": [
    "Let's finally add some synaptic receptors (see tutorial 3 on synapses)."
   ]
  },
  {
   "cell_type": "code",
   "execution_count": 6,
   "metadata": {},
   "outputs": [],
   "source": [
    "exc_receptor_model = 'SIMPLE_E'\n",
    "inh_receptor_model = 'SIMPLE_I'"
   ]
  },
  {
   "cell_type": "code",
   "execution_count": 7,
   "metadata": {},
   "outputs": [],
   "source": [
    "exc_neuron.set_excitatory_receptors(exc_receptor_model)\n",
    "exc_neuron.set_inhibitory_receptors(inh_receptor_model)\n",
    "inh_neuron.set_excitatory_receptors(exc_receptor_model)\n",
    "inh_neuron.set_inhibitory_receptors(inh_receptor_model)"
   ]
  },
  {
   "cell_type": "code",
   "execution_count": 8,
   "metadata": {},
   "outputs": [],
   "source": [
    "exc_neuron.set_neuron_parameters(tau_e=3.0*ms, tau_i=8.0*ms, Ee=0*mV, Ei=-80*mV)\n",
    "inh_neuron.set_neuron_parameters(tau_e=3.0*ms, tau_i=8.0*ms, Ee=0*mV, Ei=-80*mV)"
   ]
  },
  {
   "cell_type": "markdown",
   "metadata": {},
   "source": [
    "## Create neuron populations"
   ]
  },
  {
   "cell_type": "markdown",
   "metadata": {},
   "source": [
    "We can now create excitatory and inhibitory neuron populations using the parameters defined above."
   ]
  },
  {
   "cell_type": "code",
   "execution_count": 9,
   "metadata": {},
   "outputs": [],
   "source": [
    "exc_pop = exc_neuron.make_neuron_group(3200)\n",
    "inh_pop = inh_neuron.make_neuron_group(800)"
   ]
  },
  {
   "cell_type": "code",
   "execution_count": 10,
   "metadata": {},
   "outputs": [
    {
     "data": {
      "text/html": [
       "NeuronGroup \"neurongroup\" with 3200 neurons.<br>\n",
       "<b>Model:</b><nr>\n",
       "\\begin{align*}\\frac{\\mathrm{d}vm}{\\mathrm{d}t} &= \\frac{\\left(DeltaT gL e^{\\frac{- VT + vm}{DeltaT}} + gL \\left(EL - vm\\right) + ge \\left(Ee - vm\\right) + gi \\left(Ei - vm\\right) + tonic_{current} - w\\right) \\operatorname{int_{}}{\\left(not_{refractory} \\right)}}{C} && \\text{(unit of $vm$: $\\mathrm{V}$, flags: unless refractory)}\\\\\n",
       "\\frac{\\mathrm{d}w}{\\mathrm{d}t} &= \\frac{a \\left(- EL + vm\\right) - w}{\\tau_{w}} && \\text{(unit of $w$: $\\mathrm{A}$)}\\\\\n",
       "\\frac{\\mathrm{d}ge}{\\mathrm{d}t} &= - \\frac{ge}{\\tau_{e}} && \\text{(unit of $ge$: $\\mathrm{S}$)}\\\\\n",
       "\\frac{\\mathrm{d}gi}{\\mathrm{d}t} &= - \\frac{gi}{\\tau_{i}} && \\text{(unit of $gi$: $\\mathrm{S}$)}\\\\\n",
       "not_{refractory} &&& \\text{(unit: $\\mathrm{rad}$)}\\\\\n",
       "lastspike &&& \\text{(unit: $\\mathrm{s}$)}\\end{align*}\n",
       "<b>Spiking behaviour:</b><ul style=\"list-style-type: none; margin-top: 0px;\">\n",
       "<li><i>Threshold condition: </i>\n",
       "<code>vm > Vcut</code></li>\n",
       "<li><i>Reset statement(s):</i>\n",
       "<code>vm = V_res; w += b</code></li>\n",
       "</ul>"
      ],
      "text/plain": [
       "NeuronGroup(clock=Clock(dt=100. * usecond, name='defaultclock'), when=start, order=0, name='neurongroup')"
      ]
     },
     "execution_count": 10,
     "metadata": {},
     "output_type": "execute_result"
    }
   ],
   "source": [
    "exc_pop"
   ]
  },
  {
   "cell_type": "markdown",
   "metadata": {},
   "source": [
    "## Connecting the groups"
   ]
  },
  {
   "cell_type": "markdown",
   "metadata": {},
   "source": [
    "The neuron populations are connected using Brian2's Synapses object. \n",
    "For more information on how to create synapses in Brian2, please see https://brian2.readthedocs.io/en/stable/user/synapses.html."
   ]
  },
  {
   "cell_type": "code",
   "execution_count": 11,
   "metadata": {},
   "outputs": [],
   "source": [
    "exc_weight = 0.05*nS\n",
    "inh_weight = 1.0*nS\n",
    "Syn_EE = b2.Synapses(exc_pop, exc_pop, on_pre='ge_post += exc_weight')\n",
    "Syn_EI = b2.Synapses(exc_pop, inh_pop, on_pre='ge_post += exc_weight')\n",
    "Syn_IE = b2.Synapses(inh_pop, exc_pop, on_pre='gi_post += inh_weight')\n",
    "Syn_II = b2.Synapses(inh_pop, inh_pop, on_pre='gi_post += inh_weight')"
   ]
  },
  {
   "cell_type": "code",
   "execution_count": 12,
   "metadata": {},
   "outputs": [],
   "source": [
    "Syn_EE.connect(p=0.05)\n",
    "Syn_EI.connect(p=0.05)\n",
    "Syn_IE.connect(p=0.2)\n",
    "Syn_II.connect(p=0.2)"
   ]
  },
  {
   "cell_type": "markdown",
   "metadata": {},
   "source": [
    "## Creating monitors and setting the initial values"
   ]
  },
  {
   "cell_type": "markdown",
   "metadata": {},
   "source": [
    "Finally, we can define what variables we want to record during the simulation. For more information on Brian2's monitors, please see https://brian2.readthedocs.io/en/stable/user/recording.html."
   ]
  },
  {
   "cell_type": "code",
   "execution_count": 13,
   "metadata": {},
   "outputs": [],
   "source": [
    "exc_spikes = b2.SpikeMonitor(exc_pop)\n",
    "inh_spikes = b2.SpikeMonitor(inh_pop)\n",
    "exc_rate = b2.PopulationRateMonitor(exc_pop)\n",
    "inh_rate = b2.PopulationRateMonitor(inh_pop)\n",
    "exc_vm = b2.StateMonitor(exc_pop, ['vm'], record=True)\n",
    "inh_vm = b2.StateMonitor(inh_pop, ['vm'], record=True)"
   ]
  },
  {
   "cell_type": "markdown",
   "metadata": {},
   "source": [
    "Let's randomize initial membrane voltages (randn = normal distribution with mean 0 and sd 1). "
   ]
  },
  {
   "cell_type": "code",
   "execution_count": 14,
   "metadata": {},
   "outputs": [],
   "source": [
    "exc_pop.vm = 'VT + rand()*(VT-EL)'\n",
    "inh_pop.vm = 'VT + rand()*(VT-EL)'\n",
    "exc_pop.ge = 'rand()*exc_weight'"
   ]
  },
  {
   "cell_type": "markdown",
   "metadata": {},
   "source": [
    "## Running the simulation"
   ]
  },
  {
   "cell_type": "code",
   "execution_count": 15,
   "metadata": {},
   "outputs": [
    {
     "name": "stderr",
     "output_type": "stream",
     "text": [
      "INFO       No numerical integration method specified for group 'neurongroup_1', using method 'euler' (took 0.02s, trying other methods took 0.07s). [brian2.stateupdaters.base.method_choice]\n",
      "INFO       No numerical integration method specified for group 'neurongroup', using method 'euler' (took 0.01s, trying other methods took 0.02s). [brian2.stateupdaters.base.method_choice]\n"
     ]
    }
   ],
   "source": [
    "b2.run(5000*ms)"
   ]
  },
  {
   "cell_type": "markdown",
   "metadata": {},
   "source": [
    "## Visualize results"
   ]
  },
  {
   "cell_type": "code",
   "execution_count": 16,
   "metadata": {},
   "outputs": [],
   "source": [
    "from brian2tools import brian_plot"
   ]
  },
  {
   "cell_type": "code",
   "execution_count": 17,
   "metadata": {},
   "outputs": [
    {
     "data": {
      "text/plain": [
       "<matplotlib.axes._subplots.AxesSubplot at 0x7f16fd96b8d0>"
      ]
     },
     "execution_count": 17,
     "metadata": {},
     "output_type": "execute_result"
    },
    {
     "data": {
      "image/png": "[encoded data removed]",
      "text/plain": [
       "<Figure size 432x288 with 1 Axes>"
      ]
     },
     "metadata": {
      "needs_background": "light"
     },
     "output_type": "display_data"
    }
   ],
   "source": [
    "plt.Figure()\n",
    "ax = plt.gca()\n",
    "brian_plot(exc_spikes, axes=ax, c='red')\n",
    "brian_plot(inh_spikes, axes=ax, c='blue')"
   ]
  },
  {
   "cell_type": "code",
   "execution_count": null,
   "metadata": {},
   "outputs": [],
   "source": []
  }
 ],
 "metadata": {
  "kernelspec": {
   "display_name": "Python 3",
   "language": "python",
   "name": "python3"
  },
  "language_info": {
   "codemirror_mode": {
    "name": "ipython",
    "version": 3
   },
   "file_extension": ".py",
   "mimetype": "text/x-python",
   "name": "python",
   "nbconvert_exporter": "python",
   "pygments_lexer": "ipython3",
   "version": "3.6.8"
  }
 },
 "nbformat": 4,
 "nbformat_minor": 2
}
