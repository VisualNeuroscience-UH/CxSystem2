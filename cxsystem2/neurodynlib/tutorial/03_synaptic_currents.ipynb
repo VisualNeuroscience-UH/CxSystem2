{
 "cells": [
  {
   "cell_type": "code",
   "execution_count": 1,
   "metadata": {},
   "outputs": [],
   "source": [
    "import sys\n",
    "sys.path.append('../../../')\n",
    "import cxsystem2.neurodynlib as nd\n",
    "from brian2.units import *\n",
    "import brian2 as b2\n",
    "import matplotlib.pyplot as plt\n",
    "from brian2tools import brian_plot\n",
    "\n",
    "#b2.codegen.target = 'numpy'"
   ]
  },
  {
   "cell_type": "markdown",
   "metadata": {},
   "source": [
    "## Synaptic currents"
   ]
  },
  {
   "cell_type": "markdown",
   "metadata": {},
   "source": [
    "Synaptic receptors can be added to the model equations easily. For background reading on synapses, see [Section 3.1](https://neuronaldynamics.epfl.ch/online/Ch3.S1.html) in the Neuronal Dynamics book.\n",
    "\n",
    "Let's first load the parameters for a regular spiking AdEx neuron."
   ]
  },
  {
   "cell_type": "code",
   "execution_count": 2,
   "metadata": {},
   "outputs": [
    {
     "data": {
      "text/plain": [
       "['cNA',\n",
       " 'cAD',\n",
       " 'RS',\n",
       " 'Fig_4a',\n",
       " 'Fig_4b',\n",
       " 'Fig_4c',\n",
       " 'Fig_4d',\n",
       " 'Fig_4e',\n",
       " 'Fig_4f',\n",
       " 'Fig_4g',\n",
       " 'Figs_4h']"
      ]
     },
     "execution_count": 2,
     "metadata": {},
     "output_type": "execute_result"
    }
   ],
   "source": [
    "naud2008_json = 'naud2008_table1.json'\n",
    "x = nd.AdexNeuron()\n",
    "x.list_neurons_in_json(naud2008_json)"
   ]
  },
  {
   "cell_type": "markdown",
   "metadata": {},
   "source": [
    "Let's load the parameters and stimulate to make sure it's the model we want to use"
   ]
  },
  {
   "cell_type": "code",
   "execution_count": 3,
   "metadata": {},
   "outputs": [
    {
     "data": {
      "image/png": "[encoded data removed]",
      "text/plain": [
       "<Figure size 864x288 with 1 Axes>"
      ]
     },
     "metadata": {
      "needs_background": "light"
     },
     "output_type": "display_data"
    }
   ],
   "source": [
    "x.read_json(naud2008_json, 'RS')\n",
    "input = nd.input_factory.get_step_current(t_start=100, t_end=600, unit_time=ms, amplitude=150*pA)\n",
    "statemon, spikemon = x.simulate_neuron(I_stim=input, simulation_time=700*ms)\n",
    "x.plot_vm(statemon)"
   ]
  },
  {
   "cell_type": "markdown",
   "metadata": {},
   "source": [
    "Now, let's check the equations first without any synaptic conductances"
   ]
  },
  {
   "cell_type": "code",
   "execution_count": 4,
   "metadata": {},
   "outputs": [
    {
     "data": {
      "text/latex": [
       "\\begin{align*}\\frac{\\mathrm{d}vm}{\\mathrm{d}t} &= \\frac{DeltaT gL e^{\\frac{- VT + vm}{DeltaT}} + gL \\left(EL - vm\\right) - w}{C} && \\text{(unit of $vm$: $\\mathrm{V}$, flags: unless refractory)}\\\\\n",
       "\\frac{\\mathrm{d}w}{\\mathrm{d}t} &= \\frac{a \\left(- EL + vm\\right) - w}{\\tau_{w}} && \\text{(unit of $w$: $\\mathrm{A}$)}\\end{align*}"
      ],
      "text/plain": [
       "dvm/dt = (DeltaT*gL*exp((-VT + vm)/DeltaT) + gL*(EL - vm) - w)/C : volt (unless refractory)\n",
       "dw/dt = (a*(-EL + vm) - w)/tau_w : amp\n"
      ]
     },
     "execution_count": 4,
     "metadata": {},
     "output_type": "execute_result"
    }
   ],
   "source": [
    "x.get_neuron_equations()"
   ]
  },
  {
   "cell_type": "markdown",
   "metadata": {},
   "source": [
    "Then, let's add \"simple excitatory\" conductance characterized by single-exponential decay and check the equations again:"
   ]
  },
  {
   "cell_type": "code",
   "execution_count": 5,
   "metadata": {},
   "outputs": [
    {
     "data": {
      "text/latex": [
       "\\begin{align*}\\frac{\\mathrm{d}vm}{\\mathrm{d}t} &= \\frac{DeltaT gL e^{\\frac{- VT + vm}{DeltaT}} + gL \\left(EL - vm\\right) + ge \\left(Ee - vm\\right) - w}{C} && \\text{(unit of $vm$: $\\mathrm{V}$, flags: unless refractory)}\\\\\n",
       "\\frac{\\mathrm{d}w}{\\mathrm{d}t} &= \\frac{a \\left(- EL + vm\\right) - w}{\\tau_{w}} && \\text{(unit of $w$: $\\mathrm{A}$)}\\\\\n",
       "\\frac{\\mathrm{d}ge}{\\mathrm{d}t} &= - \\frac{ge}{\\tau_{e}} && \\text{(unit of $ge$: $\\mathrm{S}$)}\\end{align*}"
      ],
      "text/plain": [
       "dvm/dt = (DeltaT*gL*exp((-VT + vm)/DeltaT) + gL*(EL - vm) + ge*(Ee - vm) - w)/C : volt (unless refractory)\n",
       "dw/dt = (a*(-EL + vm) - w)/tau_w : amp\n",
       "dge/dt = -ge/tau_e : siemens\n"
      ]
     },
     "execution_count": 5,
     "metadata": {},
     "output_type": "execute_result"
    }
   ],
   "source": [
    "x.set_excitatory_receptors('SIMPLE_E')\n",
    "x.set_neuron_parameters(Ee=0*mV, tau_e=3.0*ms)\n",
    "x.get_neuron_equations()"
   ]
  },
  {
   "cell_type": "markdown",
   "metadata": {},
   "source": [
    "Then we'll create a Brian2 NeuronGroup with the same properties as our model neuron:"
   ]
  },
  {
   "cell_type": "code",
   "execution_count": 6,
   "metadata": {},
   "outputs": [],
   "source": [
    "neuron = b2.NeuronGroup(1, model=x.get_neuron_equations(),\n",
    "                            namespace=x.get_neuron_parameters(),\n",
    "                            reset=x.get_reset_statements(),\n",
    "                            threshold=x.get_threshold_condition(), \n",
    "                            refractory=x.get_refractory_period())\n",
    "\n",
    "neuron.set_states(x.get_initial_values())"
   ]
  },
  {
   "cell_type": "markdown",
   "metadata": {},
   "source": [
    "Let's then add some Poisson-distributed synaptic input and set-up the simulation"
   ]
  },
  {
   "cell_type": "code",
   "execution_count": 7,
   "metadata": {},
   "outputs": [],
   "source": [
    "synaptic_input = b2.PoissonInput(neuron, 'ge', 100, 10*Hz, weight=1.5*nS)\n",
    "neuron_vm = b2.StateMonitor(neuron, ['vm'], record=True)\n",
    "net = b2.Network(neuron, synaptic_input, neuron_vm)"
   ]
  },
  {
   "cell_type": "markdown",
   "metadata": {},
   "source": [
    "Finally, we can run the simulation"
   ]
  },
  {
   "cell_type": "code",
   "execution_count": 8,
   "metadata": {},
   "outputs": [
    {
     "name": "stderr",
     "output_type": "stream",
     "text": [
      "INFO       No numerical integration method specified for group 'neurongroup_1', using method 'euler' (took 0.01s, trying other methods took 0.05s). [brian2.stateupdaters.base.method_choice]\n"
     ]
    }
   ],
   "source": [
    "net.run(1000*ms)"
   ]
  },
  {
   "cell_type": "markdown",
   "metadata": {},
   "source": [
    "After simulation, we can plot the membrane voltage"
   ]
  },
  {
   "cell_type": "code",
   "execution_count": 9,
   "metadata": {},
   "outputs": [
    {
     "data": {
      "text/plain": [
       "[<matplotlib.lines.Line2D at 0x7fe11d4d0b38>]"
      ]
     },
     "execution_count": 9,
     "metadata": {},
     "output_type": "execute_result"
    },
    {
     "data": {
      "image/png": "[encoded data removed]",
      "text/plain": [
       "<Figure size 432x288 with 1 Axes>"
      ]
     },
     "metadata": {
      "needs_background": "light"
     },
     "output_type": "display_data"
    }
   ],
   "source": [
    "plt.plot(neuron_vm.t, neuron_vm.vm[0])"
   ]
  },
  {
   "cell_type": "code",
   "execution_count": null,
   "metadata": {},
   "outputs": [],
   "source": []
  }
 ],
 "metadata": {
  "kernelspec": {
   "display_name": "Python 3",
   "language": "python",
   "name": "python3"
  },
  "language_info": {
   "codemirror_mode": {
    "name": "ipython",
    "version": 3
   },
   "file_extension": ".py",
   "mimetype": "text/x-python",
   "name": "python",
   "nbconvert_exporter": "python",
   "pygments_lexer": "ipython3",
   "version": "3.7.1"
  }
 },
 "nbformat": 4,
 "nbformat_minor": 2
}
