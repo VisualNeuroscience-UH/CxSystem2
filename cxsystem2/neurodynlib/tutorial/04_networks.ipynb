{
 "cells": [
  {
   "cell_type": "code",
   "execution_count": 1,
   "metadata": {},
   "outputs": [],
   "source": [
    "import cxsystem2.neurodynlib as nd\n",
    "from brian2.units import *\n",
    "import brian2 as b2\n",
    "import matplotlib.pyplot as plt\n",
    "\n",
    "b2.codegen.target = 'numpy'"
   ]
  },
  {
   "cell_type": "markdown",
   "metadata": {},
   "source": [
    "# Making networks"
   ]
  },
  {
   "cell_type": "markdown",
   "metadata": {},
   "source": [
    "While neurodynlib is intended for exploring neuron models, you can use it to build network simulations as well. Some knowledge of Brian2 is useful here."
   ]
  },
  {
   "cell_type": "markdown",
   "metadata": {},
   "source": [
    "## Create the neuron models"
   ]
  },
  {
   "cell_type": "markdown",
   "metadata": {},
   "source": [
    "Let's first create the AdEx neuron models for our excitatory and inhibitory neurons using parameters from Naud et al. (2008) Biol Cybern (see tutorial 2 on export/import). We shall use the non-adapting neuron model (cNA) for both excitatory and inhibitory neurons."
   ]
  },
  {
   "cell_type": "code",
   "execution_count": 2,
   "metadata": {},
   "outputs": [
    {
     "data": {
      "text/plain": [
       "['cNA',\n",
       " 'cAD',\n",
       " 'RS',\n",
       " 'Fig_4a',\n",
       " 'Fig_4b',\n",
       " 'Fig_4c',\n",
       " 'Fig_4d',\n",
       " 'Fig_4e',\n",
       " 'Fig_4f',\n",
       " 'Fig_4g',\n",
       " 'Figs_4h']"
      ]
     },
     "execution_count": 2,
     "metadata": {},
     "output_type": "execute_result"
    }
   ],
   "source": [
    "naud2008_json = 'naud2008_table1.json'\n",
    "exc_neuron = nd.AdexNeuron()\n",
    "exc_neuron.list_neurons_in_json(naud2008_json)"
   ]
  },
  {
   "cell_type": "code",
   "execution_count": 3,
   "metadata": {},
   "outputs": [],
   "source": [
    "exc_neuron.read_json(naud2008_json, 'cNA')"
   ]
  },
  {
   "cell_type": "code",
   "execution_count": 4,
   "metadata": {},
   "outputs": [],
   "source": [
    "inh_neuron = nd.AdexNeuron()\n",
    "inh_neuron.read_json(naud2008_json, 'cNA')"
   ]
  },
  {
   "cell_type": "markdown",
   "metadata": {},
   "source": [
    "Let's add some synaptic receptors (see tutorial 3 on synapses)."
   ]
  },
  {
   "cell_type": "code",
   "execution_count": 5,
   "metadata": {},
   "outputs": [],
   "source": [
    "exc_receptor_model = 'SIMPLE_E'\n",
    "inh_receptor_model = 'SIMPLE_I'"
   ]
  },
  {
   "cell_type": "code",
   "execution_count": 6,
   "metadata": {},
   "outputs": [],
   "source": [
    "exc_neuron.set_excitatory_receptors(exc_receptor_model)\n",
    "exc_neuron.set_inhibitory_receptors(inh_receptor_model)\n",
    "inh_neuron.set_excitatory_receptors(exc_receptor_model)\n",
    "inh_neuron.set_inhibitory_receptors(inh_receptor_model)"
   ]
  },
  {
   "cell_type": "code",
   "execution_count": 7,
   "metadata": {},
   "outputs": [],
   "source": [
    "exc_neuron.set_neuron_parameters(tau_e=5.0*ms, tau_i=10*ms, Ee=0*mV, Ei=-80*mV)\n",
    "inh_neuron.set_neuron_parameters(tau_e=5.0*ms, tau_i=10*ms, Ee=0*mV, Ei=-80*mV)"
   ]
  },
  {
   "cell_type": "markdown",
   "metadata": {},
   "source": [
    "## Create neuron populations"
   ]
  },
  {
   "cell_type": "markdown",
   "metadata": {},
   "source": [
    "We can now create excitatory and inhibitory neuron populations using the parameters defined above."
   ]
  },
  {
   "cell_type": "code",
   "execution_count": 8,
   "metadata": {},
   "outputs": [],
   "source": [
    "N_E = 10000\n",
    "N_I = N_E/4\n",
    "conn_prob = 0.1"
   ]
  },
  {
   "cell_type": "code",
   "execution_count": 9,
   "metadata": {},
   "outputs": [],
   "source": [
    "exc_pop = exc_neuron.make_neuron_group(N_E)\n",
    "inh_pop = inh_neuron.make_neuron_group(N_I)"
   ]
  },
  {
   "cell_type": "code",
   "execution_count": 10,
   "metadata": {},
   "outputs": [
    {
     "data": {
      "text/html": [
       "NeuronGroup \"neurongroup\" with 10000 neurons.<br>\n",
       "<b>Model:</b><nr>\n",
       "\\begin{align*}\\frac{\\mathrm{d}vm}{\\mathrm{d}t} &= \\frac{\\left(DeltaT gL e^{\\frac{- VT + vm}{DeltaT}} + gL \\left(EL - vm\\right) + ge \\left(Ee - vm\\right) + gi \\left(Ei - vm\\right) - w\\right) \\operatorname{int_{}}{\\left (not_{refractory} \\right )}}{C} && \\text{(unit of $vm$: $\\mathrm{V}$, flags: unless refractory)}\\\\\n",
       "\\frac{\\mathrm{d}w}{\\mathrm{d}t} &= \\frac{a \\left(- EL + vm\\right) - w}{\\tau_{w}} && \\text{(unit of $w$: $\\mathrm{A}$)}\\\\\n",
       "\\frac{\\mathrm{d}ge}{\\mathrm{d}t} &= - \\frac{ge}{\\tau_{e}} && \\text{(unit of $ge$: $\\mathrm{S}$)}\\\\\n",
       "\\frac{\\mathrm{d}gi}{\\mathrm{d}t} &= - \\frac{gi}{\\tau_{i}} && \\text{(unit of $gi$: $\\mathrm{S}$)}\\\\\n",
       "not_{refractory} &&& \\text{(unit: $\\mathrm{rad}$)}\\\\\n",
       "lastspike &&& \\text{(unit: $\\mathrm{s}$)}\\end{align*}\n",
       "<b>Spiking behaviour:</b><ul style=\"list-style-type: none; margin-top: 0px;\">\n",
       "<li><i>Threshold condition: </i>\n",
       "<code>vm > Vcut</code></li>\n",
       "<li><i>Reset statement(s):</i>\n",
       "<code>vm = V_res; w += b</code></li>\n",
       "</ul>"
      ],
      "text/plain": [
       "NeuronGroup(clock=Clock(dt=100. * usecond, name='defaultclock'), when=start, order=0, name='neurongroup')"
      ]
     },
     "execution_count": 10,
     "metadata": {},
     "output_type": "execute_result"
    }
   ],
   "source": [
    "exc_pop"
   ]
  },
  {
   "cell_type": "markdown",
   "metadata": {},
   "source": [
    "## Connecting the groups"
   ]
  },
  {
   "cell_type": "markdown",
   "metadata": {},
   "source": [
    "The neuron populations are connected using Brian2's Synapses object. \n",
    "For more information on how to create synapses in Brian2, please see https://brian2.readthedocs.io/en/stable/user/synapses.html."
   ]
  },
  {
   "cell_type": "code",
   "execution_count": 11,
   "metadata": {},
   "outputs": [],
   "source": [
    "exc_weight = 0.5*nS\n",
    "k = 5\n",
    "inh_weight = k * exc_weight\n",
    "Syn_EE = b2.Synapses(exc_pop, exc_pop, on_pre='ge_post += exc_weight')\n",
    "Syn_EI = b2.Synapses(exc_pop, inh_pop, on_pre='ge_post += exc_weight')\n",
    "Syn_IE = b2.Synapses(inh_pop, exc_pop, on_pre='gi_post += inh_weight')\n",
    "Syn_II = b2.Synapses(inh_pop, inh_pop, on_pre='gi_post += inh_weight')"
   ]
  },
  {
   "cell_type": "code",
   "execution_count": 12,
   "metadata": {},
   "outputs": [],
   "source": [
    "Syn_EE.connect(p=conn_prob)\n",
    "Syn_EI.connect(p=conn_prob)\n",
    "Syn_IE.connect(p=conn_prob)\n",
    "Syn_II.connect(p=conn_prob)"
   ]
  },
  {
   "cell_type": "markdown",
   "metadata": {},
   "source": [
    "## Background input"
   ]
  },
  {
   "cell_type": "markdown",
   "metadata": {},
   "source": [
    "Let's add some background input to drive the neurons. For information on defining inputs in Brian2, see https://brian2.readthedocs.io/en/stable/user/input.html#poisson-inputs"
   ]
  },
  {
   "cell_type": "code",
   "execution_count": 13,
   "metadata": {},
   "outputs": [],
   "source": [
    "N_background = int(N_E * conn_prob)\n",
    "background_rate = 3*Hz\n",
    "poisson_to_exc = b2.PoissonInput(exc_pop, 'ge', N_background, background_rate, weight=exc_weight)\n",
    "poisson_to_inh = b2.PoissonInput(inh_pop, 'ge', N_background, background_rate, weight=exc_weight)"
   ]
  },
  {
   "cell_type": "markdown",
   "metadata": {},
   "source": [
    "## Creating monitors and setting initial values"
   ]
  },
  {
   "cell_type": "markdown",
   "metadata": {},
   "source": [
    "Finally, we can define what variables we want to record during the simulation. For more information on Brian2's monitors, please see https://brian2.readthedocs.io/en/stable/user/recording.html."
   ]
  },
  {
   "cell_type": "code",
   "execution_count": 14,
   "metadata": {},
   "outputs": [],
   "source": [
    "exc_spikes = b2.SpikeMonitor(exc_pop)\n",
    "inh_spikes = b2.SpikeMonitor(inh_pop)\n",
    "exc_rate = b2.PopulationRateMonitor(exc_pop)\n",
    "inh_rate = b2.PopulationRateMonitor(inh_pop)\n",
    "exc_vm = b2.StateMonitor(exc_pop, ['vm'], record=True)\n",
    "inh_vm = b2.StateMonitor(inh_pop, ['vm'], record=True)"
   ]
  },
  {
   "cell_type": "markdown",
   "metadata": {},
   "source": [
    "Let's randomize initial membrane voltages (rand = uniform distribution between 0 and 1). "
   ]
  },
  {
   "cell_type": "code",
   "execution_count": 15,
   "metadata": {},
   "outputs": [],
   "source": [
    "exc_pop.vm = '(EL-5*mV) + rand()*10*mV'\n",
    "inh_pop.vm = '(EL-5*mV) + rand()*10*mV'"
   ]
  },
  {
   "cell_type": "markdown",
   "metadata": {},
   "source": [
    "## Running the simulation"
   ]
  },
  {
   "cell_type": "code",
   "execution_count": 16,
   "metadata": {},
   "outputs": [
    {
     "name": "stderr",
     "output_type": "stream",
     "text": [
      "INFO       No numerical integration method specified for group 'neurongroup_1', using method 'euler' (took 0.02s, trying other methods took 0.05s). [brian2.stateupdaters.base.method_choice]\n",
      "INFO       No numerical integration method specified for group 'neurongroup', using method 'euler' (took 0.01s, trying other methods took 0.01s). [brian2.stateupdaters.base.method_choice]\n"
     ]
    },
    {
     "name": "stdout",
     "output_type": "stream",
     "text": [
      "Starting simulation at t=0. s for a duration of 3. s\n",
      "1.3678000000000001 (45%) simulated in 10s, estimated 12s remaining.\n",
      "2.7348000000000003 (91%) simulated in 20s, estimated 2s remaining.\n",
      "3.0 (100%) simulated in 21s\n"
     ]
    }
   ],
   "source": [
    "b2.run(3000*ms, report='text')"
   ]
  },
  {
   "cell_type": "markdown",
   "metadata": {},
   "source": [
    "## Visualizing results"
   ]
  },
  {
   "cell_type": "code",
   "execution_count": 53,
   "metadata": {},
   "outputs": [
    {
     "data": {
      "text/plain": [
       "Text(0.5, 0, 'Time [s]')"
      ]
     },
     "execution_count": 53,
     "metadata": {},
     "output_type": "execute_result"
    },
    {
     "data": {
      "image/png": "[encoded data removed]",
      "text/plain": [
       "<Figure size 864x216 with 2 Axes>"
      ]
     },
     "metadata": {
      "needs_background": "light"
     },
     "output_type": "display_data"
    }
   ],
   "source": [
    "plt.subplots(1,2, figsize=(12,3), sharey=True)\n",
    "plt.subplot(121)\n",
    "plt.plot(exc_rate.t, exc_rate.rate)\n",
    "plt.ylim([0,30])\n",
    "plt.title('Excitatory group')\n",
    "plt.xlabel('Time [s]')\n",
    "plt.ylabel('Average firing rate [Hz]')\n",
    "\n",
    "plt.subplot(122)\n",
    "plt.plot(inh_rate.t, inh_rate.rate)\n",
    "plt.ylim([0,30])\n",
    "plt.title('Inhibitory group')\n",
    "plt.xlabel('Time [s]')"
   ]
  },
  {
   "cell_type": "code",
   "execution_count": 58,
   "metadata": {},
   "outputs": [
    {
     "data": {
      "text/plain": [
       "Text(0.5, 0, 'Time [s]')"
      ]
     },
     "execution_count": 58,
     "metadata": {},
     "output_type": "execute_result"
    },
    {
     "data": {
      "image/png": "[encoded data removed]",
      "text/plain": [
       "<Figure size 432x288 with 1 Axes>"
      ]
     },
     "metadata": {
      "needs_background": "light"
     },
     "output_type": "display_data"
    }
   ],
   "source": [
    "neuron_index = 100\n",
    "plt.plot(exc_vm.t, exc_vm.vm[100]/mV)\n",
    "plt.title('Vm of an arbitrary excitatory neuron')\n",
    "plt.ylabel('Membrane voltage [mV]')\n",
    "plt.xlabel('Time [s]')"
   ]
  },
  {
   "cell_type": "code",
   "execution_count": null,
   "metadata": {},
   "outputs": [],
   "source": []
  }
 ],
 "metadata": {
  "kernelspec": {
   "display_name": "Python 3",
   "language": "python",
   "name": "python3"
  },
  "language_info": {
   "codemirror_mode": {
    "name": "ipython",
    "version": 3
   },
   "file_extension": ".py",
   "mimetype": "text/x-python",
   "name": "python",
   "nbconvert_exporter": "python",
   "pygments_lexer": "ipython3",
   "version": "3.7.1"
  }
 },
 "nbformat": 4,
 "nbformat_minor": 2
}
